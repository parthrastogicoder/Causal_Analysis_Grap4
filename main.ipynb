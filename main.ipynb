{
 "cells": [
  {
   "cell_type": "code",
   "execution_count": null,
   "metadata": {},
   "outputs": [
    {
     "name": "stdout",
     "output_type": "stream",
     "text": [
      "                                     Station Name   11   12  13  14  15   16  \\\n",
      "0                  Secretariat, Amaravati - APPCB  112   92  54  67  85  109   \n",
      "1                    Gulzarpet, Anantapur - APPCB   44   51  32  61  32   50   \n",
      "2             Gangineni Cheruvu, Chittoor - APPCB   77  114  55  55  58   55   \n",
      "3                 Yerramukkapalli, Kadapa - APPCB   78   92  57  61  59   99   \n",
      "4  Anand Kala Kshetram, Rajamahendravaram - APPCB   95   73  59  77  89  181   \n",
      "\n",
      "    17   18   19  ...   21   22   23   24   25   26   27   28  \\\n",
      "0  154  122  149  ...  112  107  137  122  109  128  141   83   \n",
      "1   66   85   92  ...   86  117  117  141   86  122  104  128   \n",
      "2   96  155  119  ...  111  105  105  150  133  115  144  124   \n",
      "3  103  109   99  ...  104  108  109  124  108  107  107   62   \n",
      "4  155  138  126  ...  127  156  144  105  135  169  125  117   \n",
      "\n",
      "                City           State  \n",
      "0          Amaravati  Andhra Pradesh  \n",
      "1          Anantapur  Andhra Pradesh  \n",
      "2           Chittoor  Andhra Pradesh  \n",
      "3             Kadapa  Andhra Pradesh  \n",
      "4  Rajamahendravaram  Andhra Pradesh  \n",
      "\n",
      "[5 rows x 21 columns]\n",
      "Index(['Station Name', '11', '12', '13', '14', '15', '16', '17', '18', '19',\n",
      "       '20', '21', '22', '23', '24', '25', '26', '27', '28', 'City', 'State'],\n",
      "      dtype='object')\n",
      "(556, 21)\n"
     ]
    }
   ],
   "source": [
    "\n",
    "import pandas as pd\n",
    "import statsmodels.api as sm\n",
    "df = pd.read_csv('FINAL_FINAL.csv')\n",
    "print(df.head())\n",
    "print(df.columns)\n",
    "print(df.shape)\n",
    "\n",
    "\n"
   ]
  },
  {
   "cell_type": "code",
   "execution_count": null,
   "metadata": {},
   "outputs": [
    {
     "name": "stdout",
     "output_type": "stream",
     "text": [
      "                                     Station Name               City  \\\n",
      "0                  Secretariat, Amaravati - APPCB          Amaravati   \n",
      "1                    Gulzarpet, Anantapur - APPCB          Anantapur   \n",
      "2             Gangineni Cheruvu, Chittoor - APPCB           Chittoor   \n",
      "3                 Yerramukkapalli, Kadapa - APPCB             Kadapa   \n",
      "4  Anand Kala Kshetram, Rajamahendravaram - APPCB  Rajamahendravaram   \n",
      "\n",
      "            State  Date  AQI  \n",
      "0  Andhra Pradesh    11  112  \n",
      "1  Andhra Pradesh    11   44  \n",
      "2  Andhra Pradesh    11   77  \n",
      "3  Andhra Pradesh    11   78  \n",
      "4  Andhra Pradesh    11   95  \n"
     ]
    }
   ],
   "source": [
    "combined_df = pd.read_csv('FINAL_FINAL.csv')\n",
    "combined_df_long = pd.melt(combined_df, id_vars=['Station Name', 'City', 'State'], \n",
    "                           value_vars=['11', '12', '13', '14', '15', '16', '17', '18', '19', '20', \n",
    "                                       '21', '22', '23', '24', '25', '26', '27', '28'],\n",
    "                           var_name='Date', value_name='AQI')\n",
    "\n",
    "combined_df_long['Date'] = combined_df_long['Date'].astype(int)  \n",
    "combined_df_long.to_csv('reshaped_aqi_data.csv', index=False)\n",
    "\n",
    "print(combined_df_long.head())\n"
   ]
  },
  {
   "cell_type": "code",
   "execution_count": null,
   "metadata": {},
   "outputs": [],
   "source": [
    "reshaped_df = pd.read_csv('reshaped_aqi_data.csv')\n",
    "reshaped_df['Treated'] = reshaped_df['State'].apply(lambda x: 1 if x == 'Delhi' else 0)\n",
    "reshaped_df['Date'] = reshaped_df['Date'] - 18\n",
    "reshaped_df.to_csv('reshaped_aqi_data.csv', index=False)"
   ]
  },
  {
   "cell_type": "code",
   "execution_count": null,
   "metadata": {},
   "outputs": [
    {
     "name": "stdout",
     "output_type": "stream",
     "text": [
      "Station Name    0\n",
      "City            0\n",
      "State           0\n",
      "Date            0\n",
      "AQI             0\n",
      "Treated         0\n",
      "Date:Treated    0\n",
      "dtype: int64\n",
      "                            OLS Regression Results                            \n",
      "==============================================================================\n",
      "Dep. Variable:                    AQI   R-squared:                       0.363\n",
      "Model:                            OLS   Adj. R-squared:                  0.363\n",
      "Method:                 Least Squares   F-statistic:                     1904.\n",
      "Date:                Thu, 28 Nov 2024   Prob (F-statistic):               0.00\n",
      "Time:                        16:26:28   Log-Likelihood:                -57882.\n",
      "No. Observations:               10008   AIC:                         1.158e+05\n",
      "Df Residuals:                   10004   BIC:                         1.158e+05\n",
      "Df Model:                           3                                         \n",
      "Covariance Type:            nonrobust                                         \n",
      "================================================================================\n",
      "                   coef    std err          t      P>|t|      [0.025      0.975]\n",
      "--------------------------------------------------------------------------------\n",
      "const          155.1032      0.849    182.794      0.000     153.440     156.766\n",
      "Date             0.7542      0.157      4.800      0.000       0.446       1.062\n",
      "Treated        238.2884      3.204     74.377      0.000     232.008     244.568\n",
      "Date:Treated    -4.7531      0.593     -8.012      0.000      -5.916      -3.590\n",
      "==============================================================================\n",
      "Omnibus:                      829.173   Durbin-Watson:                   0.836\n",
      "Prob(Omnibus):                  0.000   Jarque-Bera (JB):             1047.651\n",
      "Skew:                           0.766   Prob(JB):                    3.20e-228\n",
      "Kurtosis:                       3.407   Cond. No.                         22.2\n",
      "==============================================================================\n",
      "\n",
      "Notes:\n",
      "[1] Standard Errors assume that the covariance matrix of the errors is correctly specified.\n",
      "-4.753113927476834\n"
     ]
    }
   ],
   "source": [
    "combined_df = pd.read_csv('reshaped_aqi_data.csv')\n",
    "\n",
    "combined_df['Date:Treated'] = combined_df['Date'] * combined_df['Treated']\n",
    "print(combined_df.isnull().sum())\n",
    "model = sm.OLS(combined_df['AQI'], sm.add_constant(combined_df[['Date', 'Treated', 'Date:Treated']])).fit()\n",
    "print(model.summary())\n",
    "print(model.params['Date:Treated'])\n",
    "\n"
   ]
  },
  {
   "cell_type": "code",
   "execution_count": null,
   "metadata": {},
   "outputs": [
    {
     "name": "stdout",
     "output_type": "stream",
     "text": [
      "                          Station Name         City           State  Time  \\\n",
      "0           32Bungalows, Bhilai - CECB       Bhilai    Chhattisgarh     0   \n",
      "1                 AIIMS, Raipur - CECB       Raipur    Chhattisgarh     0   \n",
      "2         Adarsh Nagar, Jaipur - RSPCB       Jaipur       Rajasthan     0   \n",
      "3           Airoli, Navi Mumbai - MPCB  Navi Mumbai     Maharashtra     0   \n",
      "4           Airport Area, Indore - IMC       Indore  Madhya Pradesh     0   \n",
      "...                                ...          ...             ...   ...   \n",
      "1107              Worli, Mumbai - MPCB       Mumbai     Maharashtra     1   \n",
      "1108  Yamunapuram, Bulandshahr - UPPCB  Bulandshahr   Uttar Pradesh     1   \n",
      "1109   Yerramukkapalli, Kadapa - APPCB       Kadapa  Andhra Pradesh     1   \n",
      "1110  Zero Point GICI, Gangtok - SSPCB      Gangtok          Sikkim     1   \n",
      "1111       Zoo Park, Hyderabad - TSPCB    Hyderabad       Telangana     1   \n",
      "\n",
      "      Treated  avg_aqi  \n",
      "0           0  103.250  \n",
      "1           0   97.250  \n",
      "2           0  126.000  \n",
      "3           0  149.375  \n",
      "4           0  190.625  \n",
      "...       ...      ...  \n",
      "1107        1  144.000  \n",
      "1108        1  252.400  \n",
      "1109        1  102.800  \n",
      "1110        1   63.000  \n",
      "1111        1  165.100  \n",
      "\n",
      "[1112 rows x 6 columns]\n"
     ]
    }
   ],
   "source": [
    "\n",
    "df = pd.read_csv('reshaped_aqi_data.csv')\n",
    "df['Time'] = df['Date'].apply(lambda x: 0 if x <= 0 else 1)\n",
    "avg_aqi_df = df.groupby(['Station Name', 'City', 'State', 'Time'])['AQI'].mean().reset_index()\n",
    "\n",
    "pivoted_df = avg_aqi_df.pivot_table(index=['Station Name', 'City', 'State'], columns='Time', values='AQI')\n",
    "pivoted_df.columns = ['avg_aqi_time_0', 'avg_aqi_time_1']\n",
    "\n",
    "pivoted_df = pivoted_df.reset_index()\n",
    "melted_df = pd.melt(pivoted_df, id_vars=['Station Name', 'City', 'State'], \n",
    "                    value_vars=['avg_aqi_time_0', 'avg_aqi_time_1'], \n",
    "                    var_name='Time', value_name='avg_aqi')\n",
    "melted_df['Time'] = melted_df['Time'].apply(lambda x: 0 if 'time_0' in x else 1)\n",
    "melted_df['Treated'] = melted_df['Time'].apply(lambda x: 0 if x == 0 else 1)\n",
    "\n",
    "melted_df.to_csv('avg_aqi_final.csv', index=False)\n",
    "\n",
    "print(melted_df[['Station Name', 'City', 'State',  'Time', 'Treated', 'avg_aqi']])"
   ]
  },
  {
   "cell_type": "code",
   "execution_count": null,
   "metadata": {},
   "outputs": [
    {
     "name": "stdout",
     "output_type": "stream",
     "text": [
      "Time\n",
      "0    556\n",
      "1    556\n",
      "Name: count, dtype: int64\n",
      "Treated\n",
      "0    1034\n",
      "1      78\n",
      "Name: count, dtype: int64\n",
      "Time:Treated\n",
      "0    1073\n",
      "1      39\n",
      "Name: count, dtype: int64\n",
      "                            OLS Regression Results                            \n",
      "==============================================================================\n",
      "Dep. Variable:                avg_aqi   R-squared:                       0.436\n",
      "Model:                            OLS   Adj. R-squared:                  0.434\n",
      "Method:                 Least Squares   F-statistic:                     285.1\n",
      "Date:                Thu, 28 Nov 2024   Prob (F-statistic):          3.87e-137\n",
      "Time:                        17:21:23   Log-Likelihood:                -6274.6\n",
      "No. Observations:                1112   AIC:                         1.256e+04\n",
      "Df Residuals:                    1108   BIC:                         1.258e+04\n",
      "Df Model:                           3                                         \n",
      "Covariance Type:            nonrobust                                         \n",
      "================================================================================\n",
      "                   coef    std err          t      P>|t|      [0.025      0.975]\n",
      "--------------------------------------------------------------------------------\n",
      "const          150.8356      3.009     50.134      0.000     144.932     156.739\n",
      "Time             9.7180      4.255      2.284      0.023       1.369      18.067\n",
      "Treated        255.2734     11.360     22.471      0.000     232.984     277.563\n",
      "Time:Treated   -43.4064     16.065     -2.702      0.007     -74.929     -11.884\n",
      "==============================================================================\n",
      "Omnibus:                       49.296   Durbin-Watson:                   1.916\n",
      "Prob(Omnibus):                  0.000   Jarque-Bera (JB):               55.278\n",
      "Skew:                           0.545   Prob(JB):                     9.92e-13\n",
      "Kurtosis:                       2.943   Cond. No.                         10.3\n",
      "==============================================================================\n",
      "\n",
      "Notes:\n",
      "[1] Standard Errors assume that the covariance matrix of the errors is correctly specified.\n"
     ]
    }
   ],
   "source": [
    "df = melted_df\n",
    "df['Treated'] = df['State'].apply(lambda x: 1 if x == 'Delhi' else 0)\n",
    "df['Time:Treated'] = df['Time'] * df['Treated']\n",
    "print(df['Time'].value_counts())\n",
    "print(df['Treated'].value_counts())\n",
    "print(df['Time:Treated'].value_counts())\n",
    "\n",
    "model = sm.OLS(df['avg_aqi'], sm.add_constant(df[['Time', 'Treated', 'Time:Treated']])).fit()\n",
    "\n",
    "print(model.summary())"
   ]
  },
  {
   "cell_type": "code",
   "execution_count": null,
   "metadata": {},
   "outputs": [
    {
     "name": "stdout",
     "output_type": "stream",
     "text": [
      "                            OLS Regression Results                            \n",
      "==============================================================================\n",
      "Dep. Variable:                    AQI   R-squared:                       0.432\n",
      "Model:                            OLS   Adj. R-squared:                  0.431\n",
      "Method:                 Least Squares   F-statistic:                     281.5\n",
      "Date:                Fri, 29 Nov 2024   Prob (F-statistic):          8.87e-136\n",
      "Time:                        18:07:16   Log-Likelihood:                -6424.2\n",
      "No. Observations:                1112   AIC:                         1.286e+04\n",
      "Df Residuals:                    1108   BIC:                         1.288e+04\n",
      "Df Model:                           3                                         \n",
      "Covariance Type:            nonrobust                                         \n",
      "==============================================================================\n",
      "                 coef    std err          t      P>|t|      [0.025      0.975]\n",
      "------------------------------------------------------------------------------\n",
      "const        165.5029      3.442     48.088      0.000     158.750     172.256\n",
      "D            323.4971     12.995     24.894      0.000     298.000     348.995\n",
      "T            -19.7331      4.867     -4.054      0.000     -29.283     -10.183\n",
      "D:T         -147.4208     18.378     -8.022      0.000    -183.480    -111.362\n",
      "==============================================================================\n",
      "Omnibus:                      214.180   Durbin-Watson:                   0.913\n",
      "Prob(Omnibus):                  0.000   Jarque-Bera (JB):              387.459\n",
      "Skew:                           1.170   Prob(JB):                     7.32e-85\n",
      "Kurtosis:                       4.698   Cond. No.                         10.3\n",
      "==============================================================================\n",
      "\n",
      "Notes:\n",
      "[1] Standard Errors assume that the covariance matrix of the errors is correctly specified.\n"
     ]
    }
   ],
   "source": [
    "combined_df = pd.read_csv('reshaped_aqi_data.csv')\n",
    "combined_df['D'] = combined_df['State'].apply(lambda x: 1 if x == 'Delhi' else 0)\n",
    "combined_df = combined_df[combined_df['Date'].isin([0, 7])]\n",
    "\n",
    "combined_df['T'] = combined_df['Date'].apply(lambda x: 1 if x == 7 else 0)\n",
    "combined_df['D:T'] = combined_df['D'] * combined_df['T']\n",
    "model = sm.OLS(combined_df['AQI'], sm.add_constant(combined_df[['D', 'T', 'D:T']])).fit()\n",
    "\n",
    "print(model.summary())\n",
    "\n",
    "\n"
   ]
  },
  {
   "cell_type": "code",
   "execution_count": null,
   "metadata": {},
   "outputs": [
    {
     "name": "stdout",
     "output_type": "stream",
     "text": [
      "                            OLS Regression Results                            \n",
      "==============================================================================\n",
      "Dep. Variable:                    AQI   R-squared:                       0.385\n",
      "Model:                            OLS   Adj. R-squared:                  0.383\n",
      "Method:                 Least Squares   F-statistic:                     208.3\n",
      "Date:                Fri, 29 Nov 2024   Prob (F-statistic):          1.04e-172\n",
      "Time:                        18:02:46   Log-Likelihood:                -9650.9\n",
      "No. Observations:                1668   AIC:                         1.931e+04\n",
      "Df Residuals:                    1662   BIC:                         1.935e+04\n",
      "Df Model:                           5                                         \n",
      "Covariance Type:            nonrobust                                         \n",
      "==============================================================================\n",
      "                 coef    std err          t      P>|t|      [0.025      0.975]\n",
      "------------------------------------------------------------------------------\n",
      "const        138.2689      3.472     39.822      0.000     131.459     145.079\n",
      "D            214.7568     13.110     16.381      0.000     189.043     240.471\n",
      "P1            27.2340      4.910      5.546      0.000      17.603      36.865\n",
      "P2            24.0851      4.910      4.905      0.000      14.454      33.716\n",
      "P1:D         108.7403     18.541      5.865      0.000      72.375     145.106\n",
      "P2:D         -77.1107     18.541     -4.159      0.000    -113.476     -40.745\n",
      "==============================================================================\n",
      "Omnibus:                      200.420   Durbin-Watson:                   0.906\n",
      "Prob(Omnibus):                  0.000   Jarque-Bera (JB):              281.754\n",
      "Skew:                           0.910   Prob(JB):                     6.58e-62\n",
      "Kurtosis:                       3.859   Cond. No.                         14.7\n",
      "==============================================================================\n",
      "\n",
      "Notes:\n",
      "[1] Standard Errors assume that the covariance matrix of the errors is correctly specified.\n"
     ]
    }
   ],
   "source": [
    "combined_df = pd.read_csv('reshaped_aqi_data.csv')\n",
    "combined_df['D'] = combined_df['State'].apply(lambda x: 1 if x == 'Delhi' else 0)\n",
    "combined_df = combined_df[combined_df['Date'].isin([-7, 0, 7])]\n",
    "combined_df['P1']= combined_df['Date'].apply(lambda x: 1 if x == 0 else 0)\n",
    "combined_df['P2']= combined_df['Date'].apply(lambda x: 1 if x == 7 else 0)\n",
    "combined_df['P1:D'] = combined_df['P1'] * combined_df['D']\n",
    "combined_df['P2:D'] = combined_df['P2'] * combined_df['D']\n",
    "model = sm.OLS(combined_df['AQI'], sm.add_constant(combined_df[['D', 'P1', 'P2', 'P1:D', 'P2:D']])).fit()\n",
    "\n",
    "print(model.summary())\n"
   ]
  },
  {
   "cell_type": "code",
   "execution_count": null,
   "metadata": {},
   "outputs": [
    {
     "name": "stdout",
     "output_type": "stream",
     "text": [
      "                            OLS Regression Results                            \n",
      "==============================================================================\n",
      "Dep. Variable:                    AQI   R-squared:                       0.398\n",
      "Model:                            OLS   Adj. R-squared:                  0.396\n",
      "Method:                 Least Squares   F-statistic:                     209.3\n",
      "Date:                Fri, 29 Nov 2024   Prob (F-statistic):          6.90e-239\n",
      "Time:                        18:05:42   Log-Likelihood:                -12887.\n",
      "No. Observations:                2224   AIC:                         2.579e+04\n",
      "Df Residuals:                    2216   BIC:                         2.584e+04\n",
      "Df Model:                           7                                         \n",
      "Covariance Type:            nonrobust                                         \n",
      "==============================================================================\n",
      "                 coef    std err          t      P>|t|      [0.025      0.975]\n",
      "------------------------------------------------------------------------------\n",
      "const        138.2689      3.502     39.486      0.000     131.402     145.136\n",
      "D            214.7568     13.222     16.243      0.000     188.828     240.685\n",
      "P1             8.3269      4.952      1.681      0.093      -1.385      18.038\n",
      "P2            27.2340      4.952      5.499      0.000      17.523      36.946\n",
      "P3            24.0851      4.952      4.863      0.000      14.374      33.797\n",
      "P1:D          62.4167     18.698      3.338      0.001      25.748      99.085\n",
      "P2:D         108.7403     18.698      5.815      0.000      72.072     145.409\n",
      "P3:D         -77.1107     18.698     -4.124      0.000    -113.779     -40.442\n",
      "==============================================================================\n",
      "Omnibus:                      247.260   Durbin-Watson:                   0.863\n",
      "Prob(Omnibus):                  0.000   Jarque-Bera (JB):              339.888\n",
      "Skew:                           0.874   Prob(JB):                     1.56e-74\n",
      "Kurtosis:                       3.783   Cond. No.                         18.9\n",
      "==============================================================================\n",
      "\n",
      "Notes:\n",
      "[1] Standard Errors assume that the covariance matrix of the errors is correctly specified.\n"
     ]
    }
   ],
   "source": [
    "\n",
    "combined_df = pd.read_csv('reshaped_aqi_data.csv')\n",
    "combined_df['D'] = combined_df['State'].apply(lambda x: 1 if x == 'Delhi' else 0)\n",
    "combined_df = combined_df[combined_df['Date'].isin([-7 ,-4, 0, 7])]\n",
    "combined_df['P1'] = combined_df['Date'].apply(lambda x: 1 if x == -4 else 0)\n",
    "combined_df['P2'] = combined_df['Date'].apply(lambda x: 1 if x == 0 else 0)\n",
    "combined_df['P3'] = combined_df['Date'].apply(lambda x: 1 if x == 7 else 0)\n",
    "combined_df['P1:D'] = combined_df['P1'] * combined_df['D']\n",
    "combined_df['P2:D'] = combined_df['P2'] * combined_df['D']\n",
    "combined_df['P3:D'] = combined_df['P3'] * combined_df['D']\n",
    "model = sm.OLS(\n",
    "    combined_df['AQI'], \n",
    "    sm.add_constant(combined_df[['D', 'P1', 'P2', 'P3', 'P1:D', 'P2:D', 'P3:D']])\n",
    ").fit()\n",
    "print(model.summary())\n"
   ]
  },
  {
   "cell_type": "code",
   "execution_count": null,
   "metadata": {},
   "outputs": [
    {
     "name": "stderr",
     "output_type": "stream",
     "text": [
      "c:\\Users\\halog\\anaconda3\\Lib\\site-packages\\pandas\\core\\arrays\\masked.py:60: UserWarning: Pandas requires version '1.3.6' or newer of 'bottleneck' (version '1.3.5' currently installed).\n",
      "  from pandas.core import (\n"
     ]
    },
    {
     "name": "stdout",
     "output_type": "stream",
     "text": [
      "                            OLS Regression Results                            \n",
      "==============================================================================\n",
      "Dep. Variable:                    AQI   R-squared:                       0.020\n",
      "Model:                            OLS   Adj. R-squared:                  0.017\n",
      "Method:                 Least Squares   F-statistic:                     7.408\n",
      "Date:                Fri, 29 Nov 2024   Prob (F-statistic):           6.48e-05\n",
      "Time:                        21:55:40   Log-Likelihood:                -6740.2\n",
      "No. Observations:                1112   AIC:                         1.349e+04\n",
      "Df Residuals:                    1108   BIC:                         1.351e+04\n",
      "Df Model:                           3                                         \n",
      "Covariance Type:            nonrobust                                         \n",
      "==============================================================================\n",
      "                 coef    std err          t      P>|t|      [0.025      0.975]\n",
      "------------------------------------------------------------------------------\n",
      "const        186.2361      4.555     40.883      0.000     177.298     195.174\n",
      "D             31.1068     18.156      1.713      0.087      -4.517      66.731\n",
      "T            -18.2764      6.442     -2.837      0.005     -30.917      -5.636\n",
      "D:T           33.2192     25.677      1.294      0.196     -17.161      83.599\n",
      "==============================================================================\n",
      "Omnibus:                      182.552   Durbin-Watson:                   0.579\n",
      "Prob(Omnibus):                  0.000   Jarque-Bera (JB):              280.898\n",
      "Skew:                           1.125   Prob(JB):                     1.01e-61\n",
      "Kurtosis:                       3.999   Cond. No.                         10.8\n",
      "==============================================================================\n",
      "\n",
      "Notes:\n",
      "[1] Standard Errors assume that the covariance matrix of the errors is correctly specified.\n"
     ]
    }
   ],
   "source": [
    "combined_df = pd.read_csv('reshaped_aqi_data.csv')\n",
    "combined_df['D'] = combined_df['State'].apply(lambda x: 1 if x == 'Bihar' else 0)\n",
    "combined_df = combined_df[combined_df['Date'].isin([0, 7])]\n",
    "combined_df['T'] = combined_df['Date'].apply(lambda x: 1 if x == 7 else 0)\n",
    "combined_df['D:T'] = combined_df['D'] * combined_df['T']\n",
    "model = sm.OLS(combined_df['AQI'], sm.add_constant(combined_df[['D', 'T', 'D:T']])).fit()\n",
    "\n",
    "print(model.summary())"
   ]
  }
 ],
 "metadata": {
  "kernelspec": {
   "display_name": "base",
   "language": "python",
   "name": "python3"
  },
  "language_info": {
   "codemirror_mode": {
    "name": "ipython",
    "version": 3
   },
   "file_extension": ".py",
   "mimetype": "text/x-python",
   "name": "python",
   "nbconvert_exporter": "python",
   "pygments_lexer": "ipython3",
   "version": "3.11.4"
  }
 },
 "nbformat": 4,
 "nbformat_minor": 2
}
